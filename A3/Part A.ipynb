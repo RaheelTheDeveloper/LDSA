{
 "cells": [
  {
   "cell_type": "code",
   "execution_count": 34,
   "metadata": {},
   "outputs": [],
   "source": [
    "from pyspark.sql import SparkSession\n",
    "\n",
    "# (8 cores, 16gb per machine) x 5 = 40 cores\n",
    "\n",
    "# New API\n",
    "spark_session = SparkSession\\\n",
    "        .builder\\\n",
    "        .master(\"spark://192.168.2.87:7077\") \\\n",
    "        .appName(\"Part_A_Raheel_Ali\")\\\n",
    "        .config(\"spark.dynamicAllocation.enabled\", True)\\\n",
    "        .config(\"spark.shuffle.service.enabled\", True)\\\n",
    "        .config(\"spark.dynamicAllocation.executorIdleTimeout\",\"30s\")\\\n",
    "        .config(\"spark.executor.cores\",4)\\\n",
    "        .getOrCreate()\n",
    "\n",
    "\n",
    "# Old API (RDD)\n",
    "spark_context = spark_session.sparkContext"
   ]
  },
  {
   "cell_type": "code",
   "execution_count": 35,
   "metadata": {},
   "outputs": [
    {
     "name": "stdout",
     "output_type": "stream",
     "text": [
      "1862234\n"
     ]
    }
   ],
   "source": [
    "### A1.1\n",
    "\n",
    "#counting lines\n",
    "def countLines(myrdd):\n",
    "    lineCount = myrdd.map(lambda s: 1)\n",
    "    lineCount.persist()\n",
    "    totalLines = lineCount.reduce(lambda x,y:x+y)\n",
    "    return totalLines\n",
    "\n",
    "eng_1 = spark_context.textFile(\"hdfs://192.168.2.87:9000/europarl/europarl-v7.sv-en.en\")\n",
    "totalLines_eng = countLines(eng_1)\n",
    "print(totalLines_eng)"
   ]
  },
  {
   "cell_type": "code",
   "execution_count": 36,
   "metadata": {},
   "outputs": [
    {
     "name": "stdout",
     "output_type": "stream",
     "text": [
      "1862234\n"
     ]
    }
   ],
   "source": [
    "### A1.2\n",
    "\n",
    "sv_1 = spark_context.textFile(\"hdfs://192.168.2.87:9000/europarl/europarl-v7.sv-en.sv\")\n",
    "totalLines_sv = countLines(sv_1)\n",
    "print(totalLines_sv)"
   ]
  },
  {
   "cell_type": "code",
   "execution_count": 37,
   "metadata": {},
   "outputs": [
    {
     "name": "stdout",
     "output_type": "stream",
     "text": [
      "Is the line count same for english and swedish language? True\n"
     ]
    }
   ],
   "source": [
    "### A1.3\n",
    "\n",
    "print(\"Is the line count same for english and swedish language? \"+ str(totalLines_eng == totalLines_sv) )"
   ]
  },
  {
   "cell_type": "code",
   "execution_count": 38,
   "metadata": {},
   "outputs": [
    {
     "name": "stdout",
     "output_type": "stream",
     "text": [
      "Partitions for English transcripts : 2\n",
      "Partitions for Swedish transcripts : 3\n"
     ]
    }
   ],
   "source": [
    "### A1.4\n",
    "\n",
    "print(\"Partitions for English transcripts : \"+ str(eng_1.getNumPartitions()))\n",
    "print(\"Partitions for Swedish transcripts : \"+ str(sv_1.getNumPartitions()))"
   ]
  },
  {
   "cell_type": "code",
   "execution_count": 39,
   "metadata": {},
   "outputs": [],
   "source": [
    "### A2.1\n",
    "\n",
    "# Function for Text Preprocessing\n",
    "def PreProcessText(myrdd):\n",
    "    myrdd = myrdd.lower()\n",
    "    myrdd = myrdd.split(' ')\n",
    "    return myrdd\n",
    "\n",
    "eng_2 = eng_1.map(PreProcessText)\n",
    "sv_2 = sv_1.map(PreProcessText)"
   ]
  },
  {
   "cell_type": "code",
   "execution_count": 40,
   "metadata": {},
   "outputs": [
    {
     "data": {
      "text/plain": [
       "[['resumption', 'of', 'the', 'session'],\n",
       " ['i',\n",
       "  'declare',\n",
       "  'resumed',\n",
       "  'the',\n",
       "  'session',\n",
       "  'of',\n",
       "  'the',\n",
       "  'european',\n",
       "  'parliament',\n",
       "  'adjourned',\n",
       "  'on',\n",
       "  'friday',\n",
       "  '17',\n",
       "  'december',\n",
       "  '1999,',\n",
       "  'and',\n",
       "  'i',\n",
       "  'would',\n",
       "  'like',\n",
       "  'once',\n",
       "  'again',\n",
       "  'to',\n",
       "  'wish',\n",
       "  'you',\n",
       "  'a',\n",
       "  'happy',\n",
       "  'new',\n",
       "  'year',\n",
       "  'in',\n",
       "  'the',\n",
       "  'hope',\n",
       "  'that',\n",
       "  'you',\n",
       "  'enjoyed',\n",
       "  'a',\n",
       "  'pleasant',\n",
       "  'festive',\n",
       "  'period.'],\n",
       " ['although,',\n",
       "  'as',\n",
       "  'you',\n",
       "  'will',\n",
       "  'have',\n",
       "  'seen,',\n",
       "  'the',\n",
       "  'dreaded',\n",
       "  \"'millennium\",\n",
       "  \"bug'\",\n",
       "  'failed',\n",
       "  'to',\n",
       "  'materialise,',\n",
       "  'still',\n",
       "  'the',\n",
       "  'people',\n",
       "  'in',\n",
       "  'a',\n",
       "  'number',\n",
       "  'of',\n",
       "  'countries',\n",
       "  'suffered',\n",
       "  'a',\n",
       "  'series',\n",
       "  'of',\n",
       "  'natural',\n",
       "  'disasters',\n",
       "  'that',\n",
       "  'truly',\n",
       "  'were',\n",
       "  'dreadful.'],\n",
       " ['you',\n",
       "  'have',\n",
       "  'requested',\n",
       "  'a',\n",
       "  'debate',\n",
       "  'on',\n",
       "  'this',\n",
       "  'subject',\n",
       "  'in',\n",
       "  'the',\n",
       "  'course',\n",
       "  'of',\n",
       "  'the',\n",
       "  'next',\n",
       "  'few',\n",
       "  'days,',\n",
       "  'during',\n",
       "  'this',\n",
       "  'part-session.'],\n",
       " ['in',\n",
       "  'the',\n",
       "  'meantime,',\n",
       "  'i',\n",
       "  'should',\n",
       "  'like',\n",
       "  'to',\n",
       "  'observe',\n",
       "  'a',\n",
       "  \"minute'\",\n",
       "  's',\n",
       "  'silence,',\n",
       "  'as',\n",
       "  'a',\n",
       "  'number',\n",
       "  'of',\n",
       "  'members',\n",
       "  'have',\n",
       "  'requested,',\n",
       "  'on',\n",
       "  'behalf',\n",
       "  'of',\n",
       "  'all',\n",
       "  'the',\n",
       "  'victims',\n",
       "  'concerned,',\n",
       "  'particularly',\n",
       "  'those',\n",
       "  'of',\n",
       "  'the',\n",
       "  'terrible',\n",
       "  'storms,',\n",
       "  'in',\n",
       "  'the',\n",
       "  'various',\n",
       "  'countries',\n",
       "  'of',\n",
       "  'the',\n",
       "  'european',\n",
       "  'union.'],\n",
       " ['please', 'rise,', 'then,', 'for', 'this', \"minute'\", 's', 'silence.'],\n",
       " ['(the', 'house', 'rose', 'and', 'observed', 'a', \"minute'\", 's', 'silence)'],\n",
       " ['madam', 'president,', 'on', 'a', 'point', 'of', 'order.'],\n",
       " ['you',\n",
       "  'will',\n",
       "  'be',\n",
       "  'aware',\n",
       "  'from',\n",
       "  'the',\n",
       "  'press',\n",
       "  'and',\n",
       "  'television',\n",
       "  'that',\n",
       "  'there',\n",
       "  'have',\n",
       "  'been',\n",
       "  'a',\n",
       "  'number',\n",
       "  'of',\n",
       "  'bomb',\n",
       "  'explosions',\n",
       "  'and',\n",
       "  'killings',\n",
       "  'in',\n",
       "  'sri',\n",
       "  'lanka.'],\n",
       " ['one',\n",
       "  'of',\n",
       "  'the',\n",
       "  'people',\n",
       "  'assassinated',\n",
       "  'very',\n",
       "  'recently',\n",
       "  'in',\n",
       "  'sri',\n",
       "  'lanka',\n",
       "  'was',\n",
       "  'mr',\n",
       "  'kumar',\n",
       "  'ponnambalam,',\n",
       "  'who',\n",
       "  'had',\n",
       "  'visited',\n",
       "  'the',\n",
       "  'european',\n",
       "  'parliament',\n",
       "  'just',\n",
       "  'a',\n",
       "  'few',\n",
       "  'months',\n",
       "  'ago.']]"
      ]
     },
     "execution_count": 40,
     "metadata": {},
     "output_type": "execute_result"
    }
   ],
   "source": [
    "### A2.2 (Part 1)\n",
    "\n",
    "eng_2.take(10)"
   ]
  },
  {
   "cell_type": "code",
   "execution_count": 41,
   "metadata": {},
   "outputs": [
    {
     "data": {
      "text/plain": [
       "[['återupptagande', 'av', 'sessionen'],\n",
       " ['jag',\n",
       "  'förklarar',\n",
       "  'europaparlamentets',\n",
       "  'session',\n",
       "  'återupptagen',\n",
       "  'efter',\n",
       "  'avbrottet',\n",
       "  'den',\n",
       "  '17',\n",
       "  'december.',\n",
       "  'jag',\n",
       "  'vill',\n",
       "  'på',\n",
       "  'nytt',\n",
       "  'önska',\n",
       "  'er',\n",
       "  'ett',\n",
       "  'gott',\n",
       "  'nytt',\n",
       "  'år',\n",
       "  'och',\n",
       "  'jag',\n",
       "  'hoppas',\n",
       "  'att',\n",
       "  'ni',\n",
       "  'haft',\n",
       "  'en',\n",
       "  'trevlig',\n",
       "  'semester.'],\n",
       " ['som',\n",
       "  'ni',\n",
       "  'kunnat',\n",
       "  'konstatera',\n",
       "  'ägde',\n",
       "  '\"den',\n",
       "  'stora',\n",
       "  'år',\n",
       "  '2000-buggen\"',\n",
       "  'aldrig',\n",
       "  'rum.',\n",
       "  'däremot',\n",
       "  'har',\n",
       "  'invånarna',\n",
       "  'i',\n",
       "  'ett',\n",
       "  'antal',\n",
       "  'av',\n",
       "  'våra',\n",
       "  'medlemsländer',\n",
       "  'drabbats',\n",
       "  'av',\n",
       "  'naturkatastrofer',\n",
       "  'som',\n",
       "  'verkligen',\n",
       "  'varit',\n",
       "  'förskräckliga.'],\n",
       " ['ni',\n",
       "  'har',\n",
       "  'begärt',\n",
       "  'en',\n",
       "  'debatt',\n",
       "  'i',\n",
       "  'ämnet',\n",
       "  'under',\n",
       "  'sammanträdesperiodens',\n",
       "  'kommande',\n",
       "  'dagar.'],\n",
       " ['till',\n",
       "  'dess',\n",
       "  'vill',\n",
       "  'jag',\n",
       "  'att',\n",
       "  'vi,',\n",
       "  'som',\n",
       "  'ett',\n",
       "  'antal',\n",
       "  'kolleger',\n",
       "  'begärt,',\n",
       "  'håller',\n",
       "  'en',\n",
       "  'tyst',\n",
       "  'minut',\n",
       "  'för',\n",
       "  'offren',\n",
       "  'för',\n",
       "  'bl.a.',\n",
       "  'stormarna',\n",
       "  'i',\n",
       "  'de',\n",
       "  'länder',\n",
       "  'i',\n",
       "  'europeiska',\n",
       "  'unionen',\n",
       "  'som',\n",
       "  'drabbats.'],\n",
       " ['jag', 'ber', 'er', 'resa', 'er', 'för', 'en', 'tyst', 'minut.'],\n",
       " ['(parlamentet', 'höll', 'en', 'tyst', 'minut.)'],\n",
       " ['fru', 'talman!', 'det', 'gäller', 'en', 'ordningsfråga.'],\n",
       " ['ni',\n",
       "  'känner',\n",
       "  'till',\n",
       "  'från',\n",
       "  'media',\n",
       "  'att',\n",
       "  'det',\n",
       "  'skett',\n",
       "  'en',\n",
       "  'rad',\n",
       "  'bombexplosioner',\n",
       "  'och',\n",
       "  'mord',\n",
       "  'i',\n",
       "  'sri',\n",
       "  'lanka.'],\n",
       " ['en',\n",
       "  'av',\n",
       "  'de',\n",
       "  'personer',\n",
       "  'som',\n",
       "  'mycket',\n",
       "  'nyligen',\n",
       "  'mördades',\n",
       "  'i',\n",
       "  'sri',\n",
       "  'lanka',\n",
       "  'var',\n",
       "  'kumar',\n",
       "  'ponnambalam,',\n",
       "  'som',\n",
       "  'besökte',\n",
       "  'europaparlamentet',\n",
       "  'för',\n",
       "  'bara',\n",
       "  'några',\n",
       "  'månader',\n",
       "  'sedan.']]"
      ]
     },
     "execution_count": 41,
     "metadata": {},
     "output_type": "execute_result"
    }
   ],
   "source": [
    "### A2.2 (Part 2)\n",
    "\n",
    "sv_2.take(10)"
   ]
  },
  {
   "cell_type": "code",
   "execution_count": 42,
   "metadata": {},
   "outputs": [
    {
     "name": "stdout",
     "output_type": "stream",
     "text": [
      "Total line counts for english :1862234\n",
      "Total line counts for swedish :1862234\n",
      "Is the line count same for the engish and swedish language after pre processing? True\n"
     ]
    }
   ],
   "source": [
    "### A2.3\n",
    "\n",
    "totalLines_eng2 = countLines(eng_2)\n",
    "print(\"Total line counts for english :\" + str(totalLines_eng2))\n",
    "totalLines_sv2 = countLines(sv_2)\n",
    "print(\"Total line counts for swedish :\" + str(totalLines_sv2))\n",
    "print(\"Is the line count same for the engish and swedish language after pre processing? \"+ str(totalLines_eng2 == totalLines_sv2) )"
   ]
  },
  {
   "cell_type": "code",
   "execution_count": 44,
   "metadata": {},
   "outputs": [
    {
     "data": {
      "text/plain": [
       "[('the', 3498375),\n",
       " ('of', 1659758),\n",
       " ('to', 1539760),\n",
       " ('and', 1288401),\n",
       " ('in', 1085993),\n",
       " ('that', 797516),\n",
       " ('a', 773522),\n",
       " ('is', 758050),\n",
       " ('for', 534242),\n",
       " ('we', 522849)]"
      ]
     },
     "execution_count": 44,
     "metadata": {},
     "output_type": "execute_result"
    }
   ],
   "source": [
    "## A3.1 (English)\n",
    "\n",
    "eng_2.flatMap(lambda x: x).map(lambda word: (word, 1)).reduceByKey(lambda x, y: x + y).sortBy(lambda x: x[1],ascending=False).take(10)\n"
   ]
  },
  {
   "cell_type": "code",
   "execution_count": 48,
   "metadata": {},
   "outputs": [
    {
     "data": {
      "text/plain": [
       "[('att', 1706293),\n",
       " ('och', 1344830),\n",
       " ('i', 1050774),\n",
       " ('det', 924866),\n",
       " ('som', 913276),\n",
       " ('för', 908680),\n",
       " ('av', 738068),\n",
       " ('är', 694381),\n",
       " ('en', 620310),\n",
       " ('vi', 539797)]"
      ]
     },
     "execution_count": 48,
     "metadata": {},
     "output_type": "execute_result"
    }
   ],
   "source": [
    "### A3.1 (Swedish)\n",
    "\n",
    "sv_2.flatMap(lambda x: x).map(lambda word: (word, 1)).reduceByKey(lambda x, y: x + y).sortBy(lambda x: x[1],ascending=False).take(10)"
   ]
  },
  {
   "cell_type": "code",
   "execution_count": 51,
   "metadata": {},
   "outputs": [],
   "source": [
    "### A4.1 and 4.2\n",
    "\n",
    "eng_3 = eng_2.zipWithIndex().map(lambda z : (z[1],z[0]))\n",
    "sv_3 = sv_2.zipWithIndex().map(lambda z : (z[1],z[0]))"
   ]
  },
  {
   "cell_type": "code",
   "execution_count": 52,
   "metadata": {},
   "outputs": [
    {
     "data": {
      "text/plain": [
       "[(0, ['resumption', 'of', 'the', 'session']),\n",
       " (1,\n",
       "  ['i',\n",
       "   'declare',\n",
       "   'resumed',\n",
       "   'the',\n",
       "   'session',\n",
       "   'of',\n",
       "   'the',\n",
       "   'european',\n",
       "   'parliament',\n",
       "   'adjourned',\n",
       "   'on',\n",
       "   'friday',\n",
       "   '17',\n",
       "   'december',\n",
       "   '1999,',\n",
       "   'and',\n",
       "   'i',\n",
       "   'would',\n",
       "   'like',\n",
       "   'once',\n",
       "   'again',\n",
       "   'to',\n",
       "   'wish',\n",
       "   'you',\n",
       "   'a',\n",
       "   'happy',\n",
       "   'new',\n",
       "   'year',\n",
       "   'in',\n",
       "   'the',\n",
       "   'hope',\n",
       "   'that',\n",
       "   'you',\n",
       "   'enjoyed',\n",
       "   'a',\n",
       "   'pleasant',\n",
       "   'festive',\n",
       "   'period.'])]"
      ]
     },
     "execution_count": 52,
     "metadata": {},
     "output_type": "execute_result"
    }
   ],
   "source": [
    "#English lines by their line numbers\n",
    "eng_3.take(2)"
   ]
  },
  {
   "cell_type": "code",
   "execution_count": 53,
   "metadata": {},
   "outputs": [
    {
     "data": {
      "text/plain": [
       "[(0, ['återupptagande', 'av', 'sessionen']),\n",
       " (1,\n",
       "  ['jag',\n",
       "   'förklarar',\n",
       "   'europaparlamentets',\n",
       "   'session',\n",
       "   'återupptagen',\n",
       "   'efter',\n",
       "   'avbrottet',\n",
       "   'den',\n",
       "   '17',\n",
       "   'december.',\n",
       "   'jag',\n",
       "   'vill',\n",
       "   'på',\n",
       "   'nytt',\n",
       "   'önska',\n",
       "   'er',\n",
       "   'ett',\n",
       "   'gott',\n",
       "   'nytt',\n",
       "   'år',\n",
       "   'och',\n",
       "   'jag',\n",
       "   'hoppas',\n",
       "   'att',\n",
       "   'ni',\n",
       "   'haft',\n",
       "   'en',\n",
       "   'trevlig',\n",
       "   'semester.'])]"
      ]
     },
     "execution_count": 53,
     "metadata": {},
     "output_type": "execute_result"
    }
   ],
   "source": [
    "#Swedish lines by their line numbers\n",
    "sv_3.take(2)"
   ]
  },
  {
   "cell_type": "code",
   "execution_count": 54,
   "metadata": {},
   "outputs": [],
   "source": [
    "### A4.3\n",
    "joinedLang = eng_3.join(sv_3)"
   ]
  },
  {
   "cell_type": "code",
   "execution_count": 55,
   "metadata": {},
   "outputs": [],
   "source": [
    "### A4.4\n",
    "filterTheMissing = joinedLang.filter(lambda x: x[1][1] and x[1][0])"
   ]
  },
  {
   "cell_type": "code",
   "execution_count": 56,
   "metadata": {},
   "outputs": [
    {
     "data": {
      "text/plain": [
       "[(96010,\n",
       "  (['in',\n",
       "    'barcelona,',\n",
       "    'the',\n",
       "    'vital',\n",
       "    'contribution',\n",
       "    'of',\n",
       "    'civil',\n",
       "    'society',\n",
       "    'to',\n",
       "    'the',\n",
       "    'development',\n",
       "    'of',\n",
       "    'partnerships',\n",
       "    'was',\n",
       "    'recognised',\n",
       "    'for',\n",
       "    'the',\n",
       "    'first',\n",
       "    'time',\n",
       "    'in',\n",
       "    'a',\n",
       "    'text',\n",
       "    'to',\n",
       "    'which',\n",
       "    'the',\n",
       "    'european',\n",
       "    'union',\n",
       "    'and',\n",
       "    '15',\n",
       "    'countries',\n",
       "    'of',\n",
       "    'the',\n",
       "    'southern',\n",
       "    'mediterranean',\n",
       "    'subscribed.'],\n",
       "   ['i',\n",
       "    'barcelona',\n",
       "    'erkändes',\n",
       "    'för',\n",
       "    'första',\n",
       "    'gången',\n",
       "    'i',\n",
       "    'en',\n",
       "    'text',\n",
       "    'som',\n",
       "    'innebär',\n",
       "    'åtaganden',\n",
       "    'för',\n",
       "    'europeiska',\n",
       "    'unionen',\n",
       "    'och',\n",
       "    'de',\n",
       "    'femton',\n",
       "    'länderna',\n",
       "    'söder',\n",
       "    'om',\n",
       "    'medelhavsområdet',\n",
       "    'det',\n",
       "    'avsevärda',\n",
       "    'bidrag',\n",
       "    'som',\n",
       "    'det',\n",
       "    'civila',\n",
       "    'samhället',\n",
       "    'kan',\n",
       "    'lämna',\n",
       "    'till',\n",
       "    'utvecklingen',\n",
       "    'av',\n",
       "    'partnerskapet.'])),\n",
       " (97090,\n",
       "  (['this',\n",
       "    'has',\n",
       "    'nothing',\n",
       "    'to',\n",
       "    'do',\n",
       "    'with',\n",
       "    'competing',\n",
       "    'for',\n",
       "    'services',\n",
       "    'to',\n",
       "    'the',\n",
       "    'general',\n",
       "    'public.'],\n",
       "   ['detta',\n",
       "    'har',\n",
       "    'inte',\n",
       "    'med',\n",
       "    'konkurrens',\n",
       "    'om',\n",
       "    'tjänster',\n",
       "    'till',\n",
       "    'medborgarna',\n",
       "    'att',\n",
       "    'göra!'])),\n",
       " (105275,\n",
       "  (['parliament',\n",
       "    'should',\n",
       "    'support',\n",
       "    'civil',\n",
       "    'society',\n",
       "    'in',\n",
       "    'mexico,',\n",
       "    'which',\n",
       "    'is',\n",
       "    'asking',\n",
       "    'for',\n",
       "    'this',\n",
       "    'unconstitutional',\n",
       "    'provision',\n",
       "    'to',\n",
       "    'be',\n",
       "    'changed.'],\n",
       "   ['parlamentet',\n",
       "    'måste',\n",
       "    'stödja',\n",
       "    'det',\n",
       "    'civila',\n",
       "    'samhället',\n",
       "    'i',\n",
       "    'mexiko,',\n",
       "    'som',\n",
       "    'kräver',\n",
       "    'en',\n",
       "    'förändring',\n",
       "    'av',\n",
       "    'denna',\n",
       "    'bestämmelse',\n",
       "    'som',\n",
       "    'strider',\n",
       "    'mot',\n",
       "    'grundlagen.'])),\n",
       " (182690,\n",
       "  (['the',\n",
       "    'commissioner',\n",
       "    'replied',\n",
       "    'that',\n",
       "    'he',\n",
       "    'had',\n",
       "    'written',\n",
       "    'to',\n",
       "    'the',\n",
       "    'greek',\n",
       "    'authorities',\n",
       "    'on',\n",
       "    '7',\n",
       "    'june',\n",
       "    '2000',\n",
       "    'asking',\n",
       "    'for',\n",
       "    'information',\n",
       "    'on',\n",
       "    'the',\n",
       "    'extension',\n",
       "    'to',\n",
       "    'the',\n",
       "    'petrola',\n",
       "    'plant',\n",
       "    'but',\n",
       "    'that',\n",
       "    'the',\n",
       "    'greek',\n",
       "    'authorities',\n",
       "    'had',\n",
       "    'not',\n",
       "    'yet',\n",
       "    'replied',\n",
       "    'to',\n",
       "    'the',\n",
       "    'letter',\n",
       "    'in',\n",
       "    'question.'],\n",
       "   ['kommissionen',\n",
       "    'begärde',\n",
       "    'i',\n",
       "    'detta',\n",
       "    'brev',\n",
       "    'information',\n",
       "    'om',\n",
       "    'utvidgningen',\n",
       "    'av',\n",
       "    'petrolas',\n",
       "    'anläggningar.',\n",
       "    'de',\n",
       "    'grekiska',\n",
       "    'myndigheterna',\n",
       "    'har',\n",
       "    'ännu',\n",
       "    'inte',\n",
       "    'svarat',\n",
       "    'på',\n",
       "    'brevet\"!']))]"
      ]
     },
     "execution_count": 56,
     "metadata": {},
     "output_type": "execute_result"
    }
   ],
   "source": [
    "### A4.4\n",
    "filterTheMissing.take(4)"
   ]
  },
  {
   "cell_type": "code",
   "execution_count": 57,
   "metadata": {},
   "outputs": [],
   "source": [
    "### A4.5 and 4.6\n",
    "filterWordsPerSent = filterTheMissing.filter(lambda x: ((len(x[1][1]) < 5) and (len(x[1][0]) < 5)) and (len(x[1][1])==len(x[1][0])))"
   ]
  },
  {
   "cell_type": "code",
   "execution_count": 58,
   "metadata": {},
   "outputs": [
    {
     "data": {
      "text/plain": [
       "[(746710,\n",
       "  (['this', 'failure', 'was', 'incendiary.'],\n",
       "   ['denna', 'underlåtenhet', 'orsakade', 'bränderna.'])),\n",
       " (823715, (['-', 'report:', 'gauzès'], ['-', 'betänkande:', 'gauzès'])),\n",
       " (811800,\n",
       "  (['they', 'need', 'our', 'help.'], ['de', 'behöver', 'vår', 'hjälp.'])),\n",
       " (767510, (['7.'], ['7.'])),\n",
       " (339730,\n",
       "  (['questions', 'to', 'commissioner', 'diamantopoulou'],\n",
       "   ['frågor', 'till', 'kommissionsledamot', 'diamantopoulou'])),\n",
       " (750605, (['but', 'how?'], ['men', 'hur?'])),\n",
       " (58675, (['.'], ['.'])),\n",
       " (230775,\n",
       "  (['thank', 'you,', 'commissioner', 'diamantopoulou.'],\n",
       "   ['tack,', 'fru', 'kommissionär', 'diamantopoulou.'])),\n",
       " (494290, (['no.'], ['nej.'])),\n",
       " (879535,\n",
       "  (['written', 'statements', '(rule', '142)'],\n",
       "   ['skriftliga', 'förklaringar', '(artikel', '142)']))]"
      ]
     },
     "execution_count": 58,
     "metadata": {},
     "output_type": "execute_result"
    }
   ],
   "source": [
    "filterWordsPerSent.take(10)"
   ]
  },
  {
   "cell_type": "code",
   "execution_count": 59,
   "metadata": {},
   "outputs": [],
   "source": [
    "### A4.7\n",
    "sentencePairs = filterWordsPerSent.map(lambda x: list(zip(x[1][0],x[1][1]))).flatMap(lambda x: x).map(lambda word: (word, 1))"
   ]
  },
  {
   "cell_type": "code",
   "execution_count": 60,
   "metadata": {},
   "outputs": [
    {
     "data": {
      "text/plain": [
       "[(('.', '.'), 1),\n",
       " (('tashi', 'tashi'), 1),\n",
       " (('delek!', 'delek!'), 1),\n",
       " (('.', 'skriftlig.'), 1),\n",
       " (('the', 'jag'), 1),\n",
       " (('debate', 'förklarar'), 1),\n",
       " (('is', 'debatten'), 1),\n",
       " (('closed.', 'avslutad.'), 1)]"
      ]
     },
     "execution_count": 60,
     "metadata": {},
     "output_type": "execute_result"
    }
   ],
   "source": [
    "### A4.7\n",
    "sentencePairs.take(8)"
   ]
  },
  {
   "cell_type": "code",
   "execution_count": 61,
   "metadata": {},
   "outputs": [],
   "source": [
    "### A4.8\n",
    "wordTranPairCount = sentencePairs.reduceByKey(lambda x, y: x + y).sortBy(lambda x: x[1],ascending=False)"
   ]
  },
  {
   "cell_type": "code",
   "execution_count": 62,
   "metadata": {},
   "outputs": [
    {
     "data": {
      "text/plain": [
       "[(('(applause)', '(applåder)'), 2546),\n",
       " (('closed.', 'avslutad.'), 2534),\n",
       " (('is', 'är'), 2380),\n",
       " (('', '.'), 2223),\n",
       " (('.', '.'), 2082),\n",
       " (('the', 'jag'), 1324),\n",
       " (('is', 'debatten'), 1324),\n",
       " (('debate', 'förklarar'), 1317),\n",
       " (('the', 'debatten'), 1225),\n",
       " (('is', 'härmed'), 1215),\n",
       " (('debate', 'är'), 1187),\n",
       " (('(rule', '(artikel'), 893),\n",
       " (('that', 'det'), 852),\n",
       " (('written', 'skriftliga'), 847),\n",
       " (('\\xa0\\xa0', '\\xa0\\xa0'), 842),\n",
       " (('statements', 'förklaringar'), 801),\n",
       " (('we', 'vi'), 636),\n",
       " (('i', 'jag'), 629),\n",
       " (('this', 'detta'), 582),\n",
       " (('142)', '142)'), 557),\n",
       " (('it', 'det'), 515),\n",
       " (('applause', 'applåder'), 461),\n",
       " (('2.', '2.'), 438),\n",
       " (('1.', '1.'), 438),\n",
       " (('there', 'det'), 429)]"
      ]
     },
     "execution_count": 62,
     "metadata": {},
     "output_type": "execute_result"
    }
   ],
   "source": [
    "### A4.8\n",
    "wordTranPairCount.take(25)"
   ]
  },
  {
   "cell_type": "code",
   "execution_count": 63,
   "metadata": {},
   "outputs": [
    {
     "name": "stdout",
     "output_type": "stream",
     "text": [
      "('(applause)', '(applåder)') 2546\n",
      "('closed.', 'avslutad.') 2534\n",
      "('is', 'är') 2380\n",
      "('', '.') 2223\n",
      "('.', '.') 2082\n",
      "('is', 'debatten') 1324\n",
      "('the', 'jag') 1324\n",
      "('debate', 'förklarar') 1317\n",
      "('the', 'debatten') 1225\n",
      "('is', 'härmed') 1215\n"
     ]
    }
   ],
   "source": [
    "### A4.9\n",
    "wordTranPairCount2 = wordTranPairCount.top(10, lambda x: x[1])\n",
    "for word, freq in wordTranPairCount2:\n",
    "    print(word, freq)"
   ]
  },
  {
   "cell_type": "code",
   "execution_count": 64,
   "metadata": {},
   "outputs": [],
   "source": [
    "# release the cores for another application!\n",
    "spark_context.stop()"
   ]
  },
  {
   "cell_type": "code",
   "execution_count": null,
   "metadata": {},
   "outputs": [],
   "source": []
  }
 ],
 "metadata": {
  "kernelspec": {
   "display_name": "Python 3",
   "language": "python",
   "name": "python3"
  },
  "language_info": {
   "codemirror_mode": {
    "name": "ipython",
    "version": 3
   },
   "file_extension": ".py",
   "mimetype": "text/x-python",
   "name": "python",
   "nbconvert_exporter": "python",
   "pygments_lexer": "ipython3",
   "version": "3.6.9"
  }
 },
 "nbformat": 4,
 "nbformat_minor": 2
}
